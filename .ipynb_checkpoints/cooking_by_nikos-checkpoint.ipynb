{
 "cells": [
  {
   "cell_type": "code",
   "execution_count": 1,
   "metadata": {},
   "outputs": [],
   "source": [
    "import numpy as np\n",
    "import json\n",
    "import random\n",
    "import sklearn.cluster as sk_cluster\n",
    "import sklearn.metrics as metrics\n",
    "import matplotlib.pyplot as plt\n",
    "from scipy.spatial import distance\n",
    "from sklearn.metrics import confusion_matrix\n",
    "from sklearn.metrics import jaccard_score"
   ]
  },
  {
   "cell_type": "code",
   "execution_count": 2,
   "metadata": {},
   "outputs": [],
   "source": [
    "global ingredients_sort # list with sorted pairs of kay,values in descending order according to value\n",
    "global ingredients_dict_index\n",
    "global ingredients_dict_count\n",
    "global subset # list of recipes dicts, with missing ingredient recipes\n",
    "global unique_ingredients # ingredients list\n",
    "global original_recipes # 1000 recipes in original form, these recipes miss an ingredient in M\n",
    "global jaccard_recipes # jaccard score matrix for recipes"
   ]
  },
  {
   "cell_type": "markdown",
   "metadata": {},
   "source": [
    "## Create the data"
   ]
  },
  {
   "cell_type": "code",
   "execution_count": 3,
   "metadata": {},
   "outputs": [
    {
     "data": {
      "text/plain": [
       "39774"
      ]
     },
     "execution_count": 3,
     "metadata": {},
     "output_type": "execute_result"
    }
   ],
   "source": [
    "f = open(\"train.json\")\n",
    "data = json.load(f)\n",
    "len(data)"
   ]
  },
  {
   "cell_type": "markdown",
   "metadata": {},
   "source": [
    "Keep only italian and non empty ingresients lists"
   ]
  },
  {
   "cell_type": "code",
   "execution_count": 4,
   "metadata": {},
   "outputs": [],
   "source": [
    "subset = [i for i in data if i[\"cuisine\"]==\"italian\" and\n",
    "          not i[\"ingredients\"] is None]"
   ]
  },
  {
   "cell_type": "markdown",
   "metadata": {},
   "source": [
    "Make a list with all the ingredients in our dataset (only one entry for every ingredient)"
   ]
  },
  {
   "cell_type": "code",
   "execution_count": 5,
   "metadata": {},
   "outputs": [],
   "source": [
    "ingredients_list = [np.array(i[\"ingredients\"]) for i in subset]\n",
    "unique_ingredients = np.concatenate(ingredients_list)\n",
    "unique_ingredients = np.sort(np.unique(unique_ingredients))"
   ]
  },
  {
   "cell_type": "markdown",
   "metadata": {},
   "source": [
    "Pick 1000 random indexes to remove a single ingredient from each recipe that points"
   ]
  },
  {
   "cell_type": "code",
   "execution_count": 6,
   "metadata": {},
   "outputs": [],
   "source": [
    "random_indexes = random.sample(range(0, len(subset)-1), 1000)"
   ]
  },
  {
   "cell_type": "code",
   "execution_count": 7,
   "metadata": {},
   "outputs": [
    {
     "name": "stdout",
     "output_type": "stream",
     "text": [
      "['fresh green bean' 'garlic' 'grated parmesan cheese' 'olive oil'\n",
      " 'penne pasta' 'pepper' 'pesto' 'plain yogurt' 'red potato' 'salt']\n",
      "['fresh green bean' 'grated parmesan cheese' 'olive oil' 'penne pasta'\n",
      " 'pepper' 'pesto' 'plain yogurt' 'red potato' 'salt']\n"
     ]
    }
   ],
   "source": [
    "original_recipes = []\n",
    "for i in random_indexes:\n",
    "    # Copy the recipe and sort the ingredients list\n",
    "    temp = subset[i].copy()\n",
    "    temp[\"index\"] = i\n",
    "    temp[\"ingredients\"] = np.sort(temp[\"ingredients\"])\n",
    "    # Save the original recipe and its index\n",
    "    original_recipes.append(temp)\n",
    "    # Shuffle the ingredients and remove the last and sort them again\n",
    "    random.shuffle(subset[i][\"ingredients\"])\n",
    "    subset[i][\"ingredients\"] = np.sort(subset[i][\"ingredients\"][:-1])\n",
    "    \n",
    "    \n",
    "\n",
    "print(original_recipes[0][\"ingredients\"])\n",
    "print(subset[original_recipes[0][\"index\"]][\"ingredients\"])"
   ]
  },
  {
   "cell_type": "markdown",
   "metadata": {},
   "source": [
    "Create italian_recipes * unique_ingredients matrix (This is M matrix that is created from the subset that we removed the ingredients from 1000 recipes)"
   ]
  },
  {
   "cell_type": "code",
   "execution_count": 8,
   "metadata": {},
   "outputs": [],
   "source": [
    "M = np.zeros((len(subset), len(unique_ingredients)))\n",
    "\n",
    "for x, r in enumerate(subset):\n",
    "    for i in r[\"ingredients\"]:\n",
    "        y = np.where(unique_ingredients == i)\n",
    "        M[x, y] = 1"
   ]
  },
  {
   "cell_type": "code",
   "execution_count": 9,
   "metadata": {},
   "outputs": [
    {
     "data": {
      "text/plain": [
       "1000"
      ]
     },
     "execution_count": 9,
     "metadata": {},
     "output_type": "execute_result"
    }
   ],
   "source": [
    "len(random_indexes)"
   ]
  },
  {
   "cell_type": "code",
   "execution_count": 10,
   "metadata": {},
   "outputs": [],
   "source": [
    "R = np.zeros((len(random_indexes), len(unique_ingredients)))\n",
    "for k, x in enumerate(random_indexes):\n",
    "    for i in subset[x][\"ingredients\"]:\n",
    "        y = np.where(unique_ingredients == i)\n",
    "        R[k, y] = 1\n"
   ]
  },
  {
   "cell_type": "code",
   "execution_count": 11,
   "metadata": {},
   "outputs": [
    {
     "data": {
      "text/plain": [
       "(1000, 2929)"
      ]
     },
     "execution_count": 11,
     "metadata": {},
     "output_type": "execute_result"
    }
   ],
   "source": [
    "R.shape"
   ]
  },
  {
   "cell_type": "markdown",
   "metadata": {},
   "source": [
    "Create a dictionary with the ingredients frequencies."
   ]
  },
  {
   "cell_type": "code",
   "execution_count": 12,
   "metadata": {},
   "outputs": [],
   "source": [
    "ingredients_dict_count = {}\n",
    "\n",
    "for r in subset:\n",
    "    for i in r[\"ingredients\"]:\n",
    "        if i in ingredients_dict_count.keys():\n",
    "            ingredients_dict_count[i] += 1\n",
    "        else:\n",
    "            ingredients_dict_count[i] = 1\n",
    "\n"
   ]
  },
  {
   "cell_type": "code",
   "execution_count": 13,
   "metadata": {},
   "outputs": [],
   "source": [
    "ingredients_dict_index = {}\n",
    "for i, obj in enumerate(unique_ingredients):\n",
    "    ingredients_dict_index[obj] = i"
   ]
  },
  {
   "cell_type": "markdown",
   "metadata": {},
   "source": [
    "Create a sorted by value list to store  (key, frequency) in descending order."
   ]
  },
  {
   "cell_type": "code",
   "execution_count": 14,
   "metadata": {},
   "outputs": [],
   "source": [
    "ingredients_sort = sorted(ingredients_dict_count.items(), key = lambda kv:(kv[1], kv[0]), reverse=True)"
   ]
  },
  {
   "cell_type": "markdown",
   "metadata": {},
   "source": [
    "Jaccard Similarity Matrix (Recipes)"
   ]
  },
  {
   "cell_type": "code",
   "execution_count": 15,
   "metadata": {
    "scrolled": true
   },
   "outputs": [
    {
     "name": "stderr",
     "output_type": "stream",
     "text": [
      "/home/jwick/anaconda3/lib/python3.7/site-packages/sklearn/metrics/pairwise.py:1575: DataConversionWarning: Data was converted to boolean for metric jaccard\n",
      "  warnings.warn(msg, DataConversionWarning)\n"
     ]
    }
   ],
   "source": [
    "jaccard_recipes = metrics.pairwise.pairwise_distances(R,M,metric = 'jaccard')\n",
    "jaccard_recipes = np.subtract(np.ones((R.shape[0],M.shape[0])), jaccard_recipes)\n",
    "jaccard_recipes = np.absolute(jaccard_recipes)"
   ]
  },
  {
   "cell_type": "markdown",
   "metadata": {},
   "source": [
    "Jaccard Similarity Matrix (Ingredients)"
   ]
  },
  {
   "cell_type": "code",
   "execution_count": 46,
   "metadata": {},
   "outputs": [],
   "source": [
    "def DistJaccard(str1, str2):\n",
    "    str1 = set(str1.split())\n",
    "    str2 = set(str2.split())\n",
    "    return float(len(str1 & str2)) / len(str1 | str2)"
   ]
  },
  {
   "cell_type": "code",
   "execution_count": 51,
   "metadata": {},
   "outputs": [
    {
     "data": {
      "text/plain": [
       "array([[1.   , 0.6  , 0.125, ..., 0.   , 0.   , 0.   ],\n",
       "       [0.6  , 1.   , 0.125, ..., 0.   , 0.   , 0.   ],\n",
       "       [0.125, 0.125, 1.   , ..., 0.   , 0.   , 0.   ],\n",
       "       ...,\n",
       "       [0.   , 0.   , 0.   , ..., 1.   , 0.   , 0.   ],\n",
       "       [0.   , 0.   , 0.   , ..., 0.   , 1.   , 0.5  ],\n",
       "       [0.   , 0.   , 0.   , ..., 0.   , 0.5  , 1.   ]])"
      ]
     },
     "execution_count": 51,
     "metadata": {},
     "output_type": "execute_result"
    }
   ],
   "source": [
    "jaccard_ingredients = np.zeros((len(unique_ingredients), len(unique_ingredients)))\n",
    "for x,i in enumerate(unique_ingredients):\n",
    "    for y,j in enumerate(unique_ingredients):\n",
    "        jaccard_ingredients[x,y] = DistJaccard(i, j)\n",
    "jaccard_ingredients"
   ]
  },
  {
   "cell_type": "markdown",
   "metadata": {},
   "source": [
    "## Score Formulas"
   ]
  },
  {
   "cell_type": "markdown",
   "metadata": {},
   "source": [
    "### General purpose functions"
   ]
  },
  {
   "cell_type": "code",
   "execution_count": 16,
   "metadata": {},
   "outputs": [],
   "source": [
    "def score(r, i , formula):\n",
    "    \n",
    "    if formula == \"mp\":\n",
    "        return mp(r,i)\n",
    "        # call most popular\n",
    "    elif formula == \"ucf\":\n",
    "        return 1\n",
    "        # call micf\n",
    "    elif formula == \"icf\":\n",
    "        return 2\n",
    "        # call icf\n",
    "    else:\n",
    "        print(\"Wrong formula input.\")"
   ]
  },
  {
   "cell_type": "markdown",
   "metadata": {},
   "source": [
    "Returns the missing ingredient of the given recipe."
   ]
  },
  {
   "cell_type": "code",
   "execution_count": 17,
   "metadata": {},
   "outputs": [],
   "source": [
    "def get_missing_ingredient(r):\n",
    "    for k, i in enumerate(subset[original_recipes[r][\"index\"]][\"ingredients\"]):\n",
    "        \n",
    "        if i != original_recipes[r][\"ingredients\"][k]:\n",
    "            return original_recipes[r][\"ingredients\"][k]\n",
    "    return original_recipes[r][\"ingredients\"][-1]"
   ]
  },
  {
   "cell_type": "markdown",
   "metadata": {},
   "source": [
    "Returns the indexes of the top-N values of in_array."
   ]
  },
  {
   "cell_type": "code",
   "execution_count": 18,
   "metadata": {},
   "outputs": [],
   "source": [
    "def get_top_N(in_array, N):\n",
    "    args = np.argsort(in_array)\n",
    "    args = list(reversed(args[-N:]))\n",
    "    return args"
   ]
  },
  {
   "cell_type": "markdown",
   "metadata": {},
   "source": [
    "### Most Popular Ingredient (MP)"
   ]
  },
  {
   "cell_type": "code",
   "execution_count": 19,
   "metadata": {},
   "outputs": [],
   "source": [
    "def mp(r, i):\n",
    "    for p in ingredients_sort:\n",
    "        if not p[0] in subset[original_recipes[r][\"index\"]][\"ingredients\"]:\n",
    "            print(\"Expecting: \", get_missing_ingredient(r))\n",
    "            print(\"Returned:  \", p[0])\n",
    "            return p"
   ]
  },
  {
   "cell_type": "code",
   "execution_count": 20,
   "metadata": {},
   "outputs": [
    {
     "name": "stdout",
     "output_type": "stream",
     "text": [
      "Expecting:  extra-virgin olive oil\n",
      "Returned:   olive oil\n"
     ]
    },
    {
     "data": {
      "text/plain": [
       "('olive oil', 3076)"
      ]
     },
     "execution_count": 20,
     "metadata": {},
     "output_type": "execute_result"
    }
   ],
   "source": [
    "mp(100, \"salt\")"
   ]
  },
  {
   "cell_type": "markdown",
   "metadata": {},
   "source": [
    "### User-based Collaborative filtering (UCF)"
   ]
  },
  {
   "cell_type": "code",
   "execution_count": 21,
   "metadata": {},
   "outputs": [],
   "source": [
    "def ucf(r, n):\n",
    "    s_r = []\n",
    "    r_ingredients = subset[original_recipes[r][\"index\"]][\"ingredients\"]\n",
    "    B_n = get_top_N(jaccard_recipes[r], n+1)[1:]\n",
    "    \n",
    "    J_r = [jaccard_recipes[r,s] for s in B_n]\n",
    "    B_n_M = np.array([M[i] for i in B_n])\n",
    "    sum_of_J = sum(J_r)\n",
    "    for l in range(B_n_M.shape[1]):\n",
    "        if not unique_ingredients[l] in r_ingredients:\n",
    "            dot = np.dot(J_r, B_n_M[:,l])\n",
    "            s_r.append(dot/ sum_of_J)\n",
    "    return s_r"
   ]
  },
  {
   "cell_type": "code",
   "execution_count": 22,
   "metadata": {},
   "outputs": [
    {
     "name": "stdout",
     "output_type": "stream",
     "text": [
      ">>>>>>>>>>>>>>>>>>>>>>>>>>>>>>>>>>>>..N: 1\n",
      "all-purpose flour\n",
      "+++++++\n"
     ]
    },
    {
     "name": "stderr",
     "output_type": "stream",
     "text": [
      "/home/jwick/anaconda3/lib/python3.7/site-packages/ipykernel_launcher.py:12: RuntimeWarning: invalid value encountered in double_scalars\n",
      "  if sys.path[0] == '':\n"
     ]
    },
    {
     "name": "stdout",
     "output_type": "stream",
     "text": [
      "arborio rice\n",
      "+++++++\n",
      "all-purpose flour\n",
      "+++++++\n",
      "active dry yeast\n",
      "+++++++\n",
      "lemon\n",
      "+++++++\n",
      "chunky pasta sauce\n",
      "+++++++\n",
      "arborio rice\n",
      "+++++++\n",
      "chicken breast halves\n",
      "+++++++\n",
      "all-purpose flour\n",
      "+++++++\n"
     ]
    },
    {
     "name": "stderr",
     "output_type": "stream",
     "text": [
      "/home/jwick/anaconda3/lib/python3.7/site-packages/ipykernel_launcher.py:10: FutureWarning: elementwise comparison failed; returning scalar instead, but in the future will perform elementwise comparison\n",
      "  # Remove the CWD from sys.path while we load stuff.\n"
     ]
    },
    {
     "name": "stdout",
     "output_type": "stream",
     "text": [
      "boneless chicken breast halves\n",
      "+++++++\n",
      "all-purpose flour\n",
      "+++++++\n",
      "0.011\n",
      ">>>>>>>>>>>>>>>>>>>>>>>>>>>>>>>>>>>>..N: 10\n",
      "all-purpose flour\n",
      "+++++++\n",
      "all-purpose flour\n",
      "+++++++\n",
      "garlic\n",
      "+++++++\n",
      "arborio rice\n",
      "+++++++\n",
      "arborio rice\n",
      "+++++++\n",
      "all-purpose flour\n",
      "+++++++\n",
      "active dry yeast\n",
      "+++++++\n",
      "arborio rice\n",
      "+++++++\n",
      "all-purpose flour\n",
      "+++++++\n",
      "boneless chicken breast halves\n",
      "+++++++\n",
      "all-purpose flour\n",
      "+++++++\n",
      "0.011\n",
      ">>>>>>>>>>>>>>>>>>>>>>>>>>>>>>>>>>>>..N: 20\n",
      "all-purpose flour\n",
      "+++++++\n",
      "all-purpose flour\n",
      "+++++++\n",
      "garlic\n",
      "+++++++\n",
      "arborio rice\n",
      "+++++++\n",
      "arborio rice\n",
      "+++++++\n",
      "all-purpose flour\n",
      "+++++++\n",
      "active dry yeast\n",
      "+++++++\n",
      "dried oregano\n",
      "+++++++\n",
      "arborio rice\n",
      "+++++++\n",
      "all-purpose flour\n",
      "+++++++\n",
      "all-purpose flour\n",
      "+++++++\n",
      "0.011\n",
      ">>>>>>>>>>>>>>>>>>>>>>>>>>>>>>>>>>>>..N: 30\n",
      "all-purpose flour\n",
      "+++++++\n",
      "all-purpose flour\n",
      "+++++++\n",
      "all-purpose flour\n",
      "+++++++\n",
      "active dry yeast\n",
      "+++++++\n",
      "arborio rice\n",
      "+++++++\n",
      "all-purpose flour\n",
      "+++++++\n",
      "black pepper\n",
      "+++++++\n",
      "all-purpose flour\n",
      "+++++++\n",
      "0.008\n",
      ">>>>>>>>>>>>>>>>>>>>>>>>>>>>>>>>>>>>..N: 40\n",
      "all-purpose flour\n",
      "+++++++\n",
      "all-purpose flour\n",
      "+++++++\n",
      "all-purpose flour\n",
      "+++++++\n",
      "active dry yeast\n",
      "+++++++\n",
      "arborio rice\n",
      "+++++++\n",
      "all-purpose flour\n",
      "+++++++\n",
      "black pepper\n",
      "+++++++\n",
      "all-purpose flour\n",
      "+++++++\n",
      "0.008\n",
      ">>>>>>>>>>>>>>>>>>>>>>>>>>>>>>>>>>>>..N: 50\n",
      "all-purpose flour\n",
      "+++++++\n",
      "all-purpose flour\n",
      "+++++++\n",
      "all-purpose flour\n",
      "+++++++\n",
      "active dry yeast\n",
      "+++++++\n",
      "arborio rice\n",
      "+++++++\n",
      "all-purpose flour\n",
      "+++++++\n",
      "all-purpose flour\n",
      "+++++++\n",
      "0.007\n",
      ">>>>>>>>>>>>>>>>>>>>>>>>>>>>>>>>>>>>..N: 60\n",
      "all-purpose flour\n",
      "+++++++\n",
      "all-purpose flour\n",
      "+++++++\n",
      "all-purpose flour\n",
      "+++++++\n",
      "active dry yeast\n",
      "+++++++\n",
      "arborio rice\n",
      "+++++++\n",
      "all-purpose flour\n",
      "+++++++\n",
      "all-purpose flour\n",
      "+++++++\n",
      "0.007\n",
      ">>>>>>>>>>>>>>>>>>>>>>>>>>>>>>>>>>>>..N: 70\n",
      "all-purpose flour\n",
      "+++++++\n",
      "all-purpose flour\n",
      "+++++++\n",
      "all-purpose flour\n",
      "+++++++\n",
      "active dry yeast\n",
      "+++++++\n",
      "all-purpose flour\n",
      "+++++++\n",
      "all-purpose flour\n",
      "+++++++\n",
      "0.006\n",
      ">>>>>>>>>>>>>>>>>>>>>>>>>>>>>>>>>>>>..N: 80\n",
      "all-purpose flour\n",
      "+++++++\n",
      "all-purpose flour\n",
      "+++++++\n",
      "all-purpose flour\n",
      "+++++++\n",
      "active dry yeast\n",
      "+++++++\n",
      "all-purpose flour\n",
      "+++++++\n",
      "all-purpose flour\n",
      "+++++++\n",
      "0.006\n",
      ">>>>>>>>>>>>>>>>>>>>>>>>>>>>>>>>>>>>..N: 90\n",
      "all-purpose flour\n",
      "+++++++\n",
      "all-purpose flour\n",
      "+++++++\n",
      "all-purpose flour\n",
      "+++++++\n",
      "active dry yeast\n",
      "+++++++\n",
      "all-purpose flour\n",
      "+++++++\n",
      "all-purpose flour\n",
      "+++++++\n",
      "0.006\n",
      ">>>>>>>>>>>>>>>>>>>>>>>>>>>>>>>>>>>>..N: 100\n",
      "all-purpose flour\n",
      "+++++++\n",
      "all-purpose flour\n",
      "+++++++\n",
      "all-purpose flour\n",
      "+++++++\n",
      "active dry yeast\n",
      "+++++++\n",
      "all-purpose flour\n",
      "+++++++\n",
      "0.005\n",
      "[0.011, 0.011, 0.011, 0.008, 0.008, 0.007, 0.007, 0.006, 0.006, 0.006, 0.005]\n"
     ]
    }
   ],
   "source": [
    "ratios = []\n",
    "N_list = [1, 10, 20, 30, 40, 50, 60, 70, 80, 90,100]\n",
    "for n in N_list:\n",
    "    print(\">>>>>>>>>>>>>>>>>>>>>>>>>>>>>>>>>>>>..N:\", n)\n",
    "    count = 0\n",
    "    for i in range(1000):\n",
    "        index = np.argmax(ucf(i,n))\n",
    "        if get_missing_ingredient(i) == unique_ingredients[index]:\n",
    "            #print(\"N: \", n)\n",
    "            #print(get_missing_ingredient(i))\n",
    "            print(unique_ingredients[index])\n",
    "            print(\"+++++++\")\n",
    "            count += 1\n",
    "    ratios.append(float(count)/1000)\n",
    "    print(ratios[-1])\n",
    "print(ratios)\n",
    "#input(\"Next\")        "
   ]
  },
  {
   "cell_type": "code",
   "execution_count": 64,
   "metadata": {},
   "outputs": [],
   "source": [
    "def icf(r, n):\n",
    "    s_i = []\n",
    "    s_i_index = []\n",
    "    r_ingredients = subset[original_recipes[r][\"index\"]][\"ingredients\"]\n",
    "    for x,i in enumerate(unique_ingredients):\n",
    "        if not i in r_ingredients:\n",
    "            \n",
    "            s_i_index.append(x)\n",
    "            index = ingredients_dict_index[i]\n",
    "            B_n = get_top_N(jaccard_ingredients[index], n+1)[1:]\n",
    "            J_i = [jaccard_ingredients[x,s] for s in B_n]\n",
    "            #print(len(J_i))\n",
    "            sum_of_J = np.sum(J_i[0])\n",
    "            dot = np.dot(J_i[0], M[int(random_indexes[r])])\n",
    "            s_i.append(dot/ sum_of_J)\n",
    "    return s_i_index, s_i"
   ]
  },
  {
   "cell_type": "code",
   "execution_count": 66,
   "metadata": {},
   "outputs": [
    {
     "name": "stderr",
     "output_type": "stream",
     "text": [
      "/home/jwick/anaconda3/lib/python3.7/site-packages/ipykernel_launcher.py:15: RuntimeWarning: invalid value encountered in true_divide\n",
      "  from ipykernel import kernelapp as app\n"
     ]
    }
   ],
   "source": [
    "ind, sco = icf(0, 10)"
   ]
  },
  {
   "cell_type": "code",
   "execution_count": 78,
   "metadata": {},
   "outputs": [
    {
     "data": {
      "text/plain": [
       "(array([1145, 1314, 1842, 1949, 1953, 1966, 2023, 2161, 2288]),)"
      ]
     },
     "execution_count": 78,
     "metadata": {},
     "output_type": "execute_result"
    }
   ],
   "source": [
    "np.nonzero(sco[0])"
   ]
  },
  {
   "cell_type": "code",
   "execution_count": 83,
   "metadata": {},
   "outputs": [
    {
     "data": {
      "text/plain": [
       "'(    oz.) tomato sauce'"
      ]
     },
     "execution_count": 83,
     "metadata": {},
     "output_type": "execute_result"
    }
   ],
   "source": [
    "unique_ingredients[ind[0]]"
   ]
  }
 ],
 "metadata": {
  "kernelspec": {
   "display_name": "Python 3",
   "language": "python",
   "name": "python3"
  },
  "language_info": {
   "codemirror_mode": {
    "name": "ipython",
    "version": 3
   },
   "file_extension": ".py",
   "mimetype": "text/x-python",
   "name": "python",
   "nbconvert_exporter": "python",
   "pygments_lexer": "ipython3",
   "version": "3.7.4"
  }
 },
 "nbformat": 4,
 "nbformat_minor": 2
}
