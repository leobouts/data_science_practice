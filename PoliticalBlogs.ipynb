{
 "cells": [
  {
   "cell_type": "code",
   "execution_count": 1,
   "metadata": {},
   "outputs": [],
   "source": [
    "import networkx as nx\n",
    "import scipy as sp\n",
    "import numpy as np\n",
    "import random\n",
    "import copy\n",
    "from scipy import sparse\n",
    "from numpy import linalg\n",
    "from networkx.algorithms.community.label_propagation import label_propagation_communities\n",
    "import collections\n",
    "\n",
    "%matplotlib inline"
   ]
  },
  {
   "cell_type": "code",
   "execution_count": 2,
   "metadata": {},
   "outputs": [],
   "source": [
    "political=nx.read_gml(\"polblogs.gml\",label='id')\n",
    "\n",
    "#make the graph directed with no parallels\n",
    "political = nx.DiGraph(political)\n",
    "\n",
    "#returns a set of nodes of the biggest connected component\n",
    "largest = max(nx.connected_components(political.to_undirected()), key=len)\n",
    "\n",
    "# creates the graph of the biggest connected component including direction\n",
    "CC_max = political.subgraph(largest)\n"
   ]
  },
  {
   "cell_type": "code",
   "execution_count": 25,
   "metadata": {},
   "outputs": [
    {
     "name": "stdout",
     "output_type": "stream",
     "text": [
      "1.0\n",
      "1.0\n",
      "0.0\n"
     ]
    },
    {
     "name": "stderr",
     "output_type": "stream",
     "text": [
      "/Library/Frameworks/Python.framework/Versions/3.6/lib/python3.6/site-packages/ipykernel_launcher.py:57: DeprecationWarning: in the future the special handling of scalars will be removed from delete and raise an error\n",
      "/Library/Frameworks/Python.framework/Versions/3.6/lib/python3.6/site-packages/ipykernel_launcher.py:66: RuntimeWarning: invalid value encountered in true_divide\n"
     ]
    }
   ],
   "source": [
    "a = CC_max.copy()\n",
    "\n",
    "convergence_factor = 0.01\n",
    "\n",
    "#get the b% of values\n",
    "percentage=0.1\n",
    "\n",
    "#Returns a list with the value of the nodes\n",
    "original_values = dict(CC_max.nodes(data='value'))\n",
    "\n",
    "numbers_of_items_kept_from_percentage = round(len(a)*percentage)\n",
    "\n",
    "# shuffle the dictionary of values to get the random nodes\n",
    "\n",
    "a1 = list(original_values.items())\n",
    "np.random.shuffle(a1)\n",
    "\n",
    "final_dictionary = dict(a1)\n",
    "\n",
    "#keep the first percentage b% of the nodes\n",
    "\n",
    "nodes_kept = list(final_dictionary.items())[:numbers_of_items_kept_from_percentage]\n",
    "\n",
    "list_to_be_deleted = list(dict(nodes_kept).keys())\n",
    "\n",
    "nodes_to_discover = list(final_dictionary.items())[numbers_of_items_kept_from_percentage:]\n",
    "\n",
    "#initialize not known node values\n",
    "        \n",
    "for key in dict(nodes_kept).keys():\n",
    "    final_dictionary[key] = 0.5\n",
    "\n",
    "\n",
    "od = collections.OrderedDict(sorted(final_dictionary.items()))\n",
    "\n",
    "\n",
    "previous_values = np.matrix(list(od.values()))\n",
    "previous_values = np.reshape(previous_values,(np.size(previous_values,1), 1))\n",
    "\n",
    "keys_order = list(od.keys())\n",
    "\n",
    "new_values = np.matrix(list(od.values()))\n",
    "new_values = np.reshape(new_values,(np.size(new_values,1), 1))\n",
    "\n",
    "# adjacency matrix ordered according to the nodes inside keys_order\n",
    "\n",
    "A = nx.adjacency_matrix(CC_max ,nodelist = keys_order)\n",
    "\n",
    "sum_of_neighbors = np.sum(A,axis=1)\n",
    "\n",
    "size_of_vector = np.size(sum_of_neighbors,0)\n",
    "\n",
    "sum_of_neighbors = np.reshape(sum_of_neighbors,(size_of_vector, 1))\n",
    "\n",
    "indexes_to_be_deleted = np.where(np.isin(A,list_to_be_deleted))\n",
    "\n",
    "np.delete(A,indexes_to_be_deleted, axis=0)\n",
    "\n",
    "\n",
    "#the order holds\n",
    "#print(sum_of_neighbors)\n",
    "#print(CC_max[keys_order[0]])\n",
    "\n",
    "while True:\n",
    "    new_values = A * new_values\n",
    "    new_values = new_values/sum_of_neighbors\n",
    "    new_values[np.isnan(new_values)] = 0\n",
    "\n",
    "    norm_of_previous_values = linalg.norm(np.array(np.reshape(previous_values,(1, size_of_vector))),1)\n",
    "    \n",
    "    norm_new = linalg.norm(np.array(np.reshape(new_values,(1, size_of_vector))),1)\n",
    "    \n",
    "    #print(norm_of_previous_values)\n",
    "    #print(norm_new)\n",
    "    \n",
    "    norm_difference = abs(norm_new - norm_of_previous_values)\n",
    "\n",
    "    print(norm_difference)\n",
    "    break\n",
    "    if norm_difference < convergence_factor:\n",
    "        break\n",
    "\n",
    "      \n",
    "            \n",
    "            \n"
   ]
  }
 ],
 "metadata": {
  "kernelspec": {
   "display_name": "Python 3",
   "language": "python",
   "name": "python3"
  },
  "language_info": {
   "codemirror_mode": {
    "name": "ipython",
    "version": 3
   },
   "file_extension": ".py",
   "mimetype": "text/x-python",
   "name": "python",
   "nbconvert_exporter": "python",
   "pygments_lexer": "ipython3",
   "version": "3.6.5"
  }
 },
 "nbformat": 4,
 "nbformat_minor": 2
}
