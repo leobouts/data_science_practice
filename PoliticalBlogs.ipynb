{
 "cells": [
  {
   "cell_type": "code",
   "execution_count": 42,
   "metadata": {},
   "outputs": [],
   "source": [
    "import networkx as nx\n",
    "import scipy as sp\n",
    "import numpy as np\n",
    "import random\n",
    "import copy\n",
    "from scipy import sparse\n",
    "from numpy import linalg\n",
    "from networkx.algorithms.community.label_propagation import label_propagation_communities\n",
    "import collections\n",
    "\n",
    "%matplotlib inline"
   ]
  },
  {
   "cell_type": "code",
   "execution_count": 55,
   "metadata": {},
   "outputs": [],
   "source": [
    "political=nx.read_gml(\"polblogs.gml\",label='id')\n",
    "\n",
    "#make the graph directed with no parallels\n",
    "political = nx.DiGraph(political)\n",
    "\n",
    "#returns a set of nodes of the biggest connected component\n",
    "largest = max(nx.connected_components(political.to_undirected()), key=len)\n",
    "\n",
    "# creates the graph of the biggest connected component including direction\n",
    "CC_max = political.subgraph(largest)\n"
   ]
  },
  {
   "cell_type": "code",
   "execution_count": 89,
   "metadata": {},
   "outputs": [
    {
     "name": "stderr",
     "output_type": "stream",
     "text": [
      "/Library/Frameworks/Python.framework/Versions/3.6/lib/python3.6/site-packages/ipykernel_launcher.py:56: DeprecationWarning: in the future the special handling of scalars will be removed from delete and raise an error\n"
     ]
    },
    {
     "ename": "ZeroDivisionError",
     "evalue": "float division by zero",
     "output_type": "error",
     "traceback": [
      "\u001b[0;31m---------------------------------------------------------------------------\u001b[0m",
      "\u001b[0;31mZeroDivisionError\u001b[0m                         Traceback (most recent call last)",
      "\u001b[0;32m<ipython-input-89-9d7aabdb27ee>\u001b[0m in \u001b[0;36m<module>\u001b[0;34m\u001b[0m\n\u001b[1;32m     63\u001b[0m \u001b[0;34m\u001b[0m\u001b[0m\n\u001b[1;32m     64\u001b[0m     \u001b[0;32mfor\u001b[0m \u001b[0mcount\u001b[0m\u001b[0;34m,\u001b[0m\u001b[0mitem\u001b[0m \u001b[0;32min\u001b[0m \u001b[0menumerate\u001b[0m\u001b[0;34m(\u001b[0m\u001b[0mnew_values\u001b[0m\u001b[0;34m)\u001b[0m\u001b[0;34m:\u001b[0m\u001b[0;34m\u001b[0m\u001b[0m\n\u001b[0;32m---> 65\u001b[0;31m         \u001b[0mnew_values\u001b[0m\u001b[0;34m[\u001b[0m\u001b[0mcount\u001b[0m\u001b[0;34m]\u001b[0m \u001b[0;34m=\u001b[0m \u001b[0mnew_values\u001b[0m\u001b[0;34m[\u001b[0m\u001b[0mcount\u001b[0m\u001b[0;34m]\u001b[0m\u001b[0;34m/\u001b[0m\u001b[0msum_of_neighbors\u001b[0m\u001b[0;34m[\u001b[0m\u001b[0mcount\u001b[0m\u001b[0;34m]\u001b[0m\u001b[0;34m\u001b[0m\u001b[0m\n\u001b[0m\u001b[1;32m     66\u001b[0m \u001b[0;34m\u001b[0m\u001b[0m\n\u001b[1;32m     67\u001b[0m \u001b[0;34m\u001b[0m\u001b[0m\n",
      "\u001b[0;32m~/Library/Python/3.6/lib/python/site-packages/scipy/sparse/base.py\u001b[0m in \u001b[0;36m__truediv__\u001b[0;34m(self, other)\u001b[0m\n\u001b[1;32m    615\u001b[0m \u001b[0;34m\u001b[0m\u001b[0m\n\u001b[1;32m    616\u001b[0m     \u001b[0;32mdef\u001b[0m \u001b[0m__truediv__\u001b[0m\u001b[0;34m(\u001b[0m\u001b[0mself\u001b[0m\u001b[0;34m,\u001b[0m \u001b[0mother\u001b[0m\u001b[0;34m)\u001b[0m\u001b[0;34m:\u001b[0m\u001b[0;34m\u001b[0m\u001b[0m\n\u001b[0;32m--> 617\u001b[0;31m         \u001b[0;32mreturn\u001b[0m \u001b[0mself\u001b[0m\u001b[0;34m.\u001b[0m\u001b[0m_divide\u001b[0m\u001b[0;34m(\u001b[0m\u001b[0mother\u001b[0m\u001b[0;34m,\u001b[0m \u001b[0mtrue_divide\u001b[0m\u001b[0;34m=\u001b[0m\u001b[0;32mTrue\u001b[0m\u001b[0;34m)\u001b[0m\u001b[0;34m\u001b[0m\u001b[0m\n\u001b[0m\u001b[1;32m    618\u001b[0m \u001b[0;34m\u001b[0m\u001b[0m\n\u001b[1;32m    619\u001b[0m     \u001b[0;32mdef\u001b[0m \u001b[0m__div__\u001b[0m\u001b[0;34m(\u001b[0m\u001b[0mself\u001b[0m\u001b[0;34m,\u001b[0m \u001b[0mother\u001b[0m\u001b[0;34m)\u001b[0m\u001b[0;34m:\u001b[0m\u001b[0;34m\u001b[0m\u001b[0m\n",
      "\u001b[0;32m~/Library/Python/3.6/lib/python/site-packages/scipy/sparse/base.py\u001b[0m in \u001b[0;36m_divide\u001b[0;34m(self, other, true_divide, rdivide)\u001b[0m\n\u001b[1;32m    580\u001b[0m \u001b[0;34m\u001b[0m\u001b[0m\n\u001b[1;32m    581\u001b[0m             \u001b[0;32mif\u001b[0m \u001b[0mtrue_divide\u001b[0m \u001b[0;32mand\u001b[0m \u001b[0mnp\u001b[0m\u001b[0;34m.\u001b[0m\u001b[0mcan_cast\u001b[0m\u001b[0;34m(\u001b[0m\u001b[0mself\u001b[0m\u001b[0;34m.\u001b[0m\u001b[0mdtype\u001b[0m\u001b[0;34m,\u001b[0m \u001b[0mnp\u001b[0m\u001b[0;34m.\u001b[0m\u001b[0mfloat_\u001b[0m\u001b[0;34m)\u001b[0m\u001b[0;34m:\u001b[0m\u001b[0;34m\u001b[0m\u001b[0m\n\u001b[0;32m--> 582\u001b[0;31m                 \u001b[0;32mreturn\u001b[0m \u001b[0mself\u001b[0m\u001b[0;34m.\u001b[0m\u001b[0mastype\u001b[0m\u001b[0;34m(\u001b[0m\u001b[0mnp\u001b[0m\u001b[0;34m.\u001b[0m\u001b[0mfloat_\u001b[0m\u001b[0;34m)\u001b[0m\u001b[0;34m.\u001b[0m\u001b[0m_mul_scalar\u001b[0m\u001b[0;34m(\u001b[0m\u001b[0;36m1.\u001b[0m\u001b[0;34m/\u001b[0m\u001b[0mother\u001b[0m\u001b[0;34m)\u001b[0m\u001b[0;34m\u001b[0m\u001b[0m\n\u001b[0m\u001b[1;32m    583\u001b[0m             \u001b[0;32melse\u001b[0m\u001b[0;34m:\u001b[0m\u001b[0;34m\u001b[0m\u001b[0m\n\u001b[1;32m    584\u001b[0m                 \u001b[0mr\u001b[0m \u001b[0;34m=\u001b[0m \u001b[0mself\u001b[0m\u001b[0;34m.\u001b[0m\u001b[0m_mul_scalar\u001b[0m\u001b[0;34m(\u001b[0m\u001b[0;36m1.\u001b[0m\u001b[0;34m/\u001b[0m\u001b[0mother\u001b[0m\u001b[0;34m)\u001b[0m\u001b[0;34m\u001b[0m\u001b[0m\n",
      "\u001b[0;31mZeroDivisionError\u001b[0m: float division by zero"
     ]
    }
   ],
   "source": [
    "a = CC_max.copy()\n",
    "\n",
    "convergence_factor = 0.01\n",
    "\n",
    "#get the b% of values\n",
    "percentage=0.1\n",
    "\n",
    "# re-index node id's to simply proccess, original id's are stored in a label.\n",
    "CC_max = nx.convert_node_labels_to_integers(CC_max, first_label=0, ordering='default', label_attribute='original_graph_id')\n",
    "\n",
    "#Returns a list with the value of the nodes\n",
    "original_values = dict(CC_max.nodes(data='value'))\n",
    "\n",
    "numbers_of_items_kept_from_percentage = round(len(a)*percentage)\n",
    "\n",
    "# shuffle the dictionary of values to get the random nodes\n",
    "\n",
    "shuffled = dict(original_values.items())\n",
    "np.random.shuffle(shuffled)\n",
    "\n",
    "#keep the first percentage b% of the nodes\n",
    "nodes_kept = list(shuffled.items())[:numbers_of_items_kept_from_percentage]\n",
    "nodes_to_discover = list(final_dictionary.items())[numbers_of_items_kept_from_percentage:]\n",
    "\n",
    "nodes_with_known_value = list(dict(nodes_kept).keys())\n",
    "\n",
    "#initialize not known node values\n",
    "        \n",
    "for key in dict(nodes_kept).keys():\n",
    "    shuffled[key] = 0.5\n",
    "\n",
    "\n",
    "previous_values = np.matrix(list(original_values.items()))\n",
    "\n",
    "#drop id's\n",
    "previous_values = np.delete(previous_values, 0, 1)\n",
    "\n",
    "\n",
    "new_values = np.matrix(list(original_values.items()))\n",
    "\n",
    "#drop id's\n",
    "new_values = np.delete(new_values, 0, 1)\n",
    "\n",
    "\n",
    "# adjacency matrix \n",
    "\n",
    "A = nx.adjacency_matrix(CC_max)\n",
    "\n",
    "sum_of_neighbors = np.sum(A,axis=1)\n",
    "\n",
    "size_of_vector = np.size(sum_of_neighbors,0)\n",
    "\n",
    "sum_of_neighbors = np.reshape(sum_of_neighbors,(size_of_vector, 1))\n",
    "\n",
    "\n",
    "A = np.delete(A,nodes_with_known_value, axis=0)\n",
    "new_values = np.delete(new_values,nodes_with_known_value, axis=0)\n",
    "previous_values = np.delete(previous_values,nodes_with_known_value, axis=0)\n",
    "\n",
    "\n",
    "while True:\n",
    "    \n",
    "    new_values = A * new_values\n",
    "    \n",
    "    for count,item in enumerate(new_values):\n",
    "        new_values[count] = new_values[count]/sum_of_neighbors[count]\n",
    "    \n",
    "    \n",
    "    print(new_values)\n",
    "    print(new_values.shape)\n",
    "    print(\"aaaaaa\")\n",
    "    \n",
    "    break\n",
    "\n",
    "    norm_of_previous_values = linalg.norm(np.array(np.reshape(previous_values,(1, size_of_vector))),1)\n",
    "    \n",
    "    norm_new = linalg.norm(np.array(np.reshape(new_values,(1, size_of_vector))),1)\n",
    "    \n",
    "    #print(norm_of_previous_values)\n",
    "    print(norm_new)\n",
    "    \n",
    "    norm_difference = abs(norm_new - norm_of_previous_values)\n",
    "    break\n",
    "    print(norm_difference)\n",
    "    \n",
    "    if norm_difference < convergence_factor:\n",
    "        break\n",
    "\n"
   ]
  },
  {
   "cell_type": "code",
   "execution_count": null,
   "metadata": {},
   "outputs": [],
   "source": [
    "\n",
    "\n",
    "\n",
    "      \n",
    "            \n",
    "            \n"
   ]
  }
 ],
 "metadata": {
  "kernelspec": {
   "display_name": "Python 3",
   "language": "python",
   "name": "python3"
  },
  "language_info": {
   "codemirror_mode": {
    "name": "ipython",
    "version": 3
   },
   "file_extension": ".py",
   "mimetype": "text/x-python",
   "name": "python",
   "nbconvert_exporter": "python",
   "pygments_lexer": "ipython3",
   "version": "3.6.5"
  }
 },
 "nbformat": 4,
 "nbformat_minor": 2
}
