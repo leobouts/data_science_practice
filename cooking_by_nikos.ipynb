{
 "cells": [
  {
   "cell_type": "code",
   "execution_count": 1,
   "metadata": {},
   "outputs": [],
   "source": [
    "import numpy as np\n",
    "import json\n",
    "import random\n",
    "import sklearn.cluster as sk_cluster\n",
    "import sklearn.metrics as metrics\n",
    "import matplotlib.pyplot as plt\n",
    "from scipy.spatial import distance\n",
    "from sklearn.metrics import confusion_matrix\n",
    "from sklearn.metrics import jaccard_score"
   ]
  },
  {
   "cell_type": "code",
   "execution_count": 2,
   "metadata": {},
   "outputs": [],
   "source": [
    "global ingredients_sort # list with sorted pairs of kay,values in descending order according to value\n",
    "global subset # list of recipes dicts, with missing ingredient recipes\n",
    "global unique_ingredients # ingredients list\n",
    "global original_recipes # 1000 recipes in original form, these recipes miss an ingredient in M\n",
    "global jaccard_recipes # jaccard score matrix for recipes"
   ]
  },
  {
   "cell_type": "markdown",
   "metadata": {},
   "source": [
    "## Create the data"
   ]
  },
  {
   "cell_type": "code",
   "execution_count": 3,
   "metadata": {},
   "outputs": [
    {
     "data": {
      "text/plain": [
       "39774"
      ]
     },
     "execution_count": 3,
     "metadata": {},
     "output_type": "execute_result"
    }
   ],
   "source": [
    "f = open(\"train.json\")\n",
    "data = json.load(f)\n",
    "len(data)"
   ]
  },
  {
   "cell_type": "markdown",
   "metadata": {},
   "source": [
    "Keep only italian and non empty ingresients lists"
   ]
  },
  {
   "cell_type": "code",
   "execution_count": 4,
   "metadata": {},
   "outputs": [],
   "source": [
    "subset = [i for i in data if i[\"cuisine\"]==\"italian\" and\n",
    "          not i[\"ingredients\"] is None]"
   ]
  },
  {
   "cell_type": "markdown",
   "metadata": {},
   "source": [
    "Make a list with all the ingredients in our dataset (only one entry for every ingredient)"
   ]
  },
  {
   "cell_type": "code",
   "execution_count": 5,
   "metadata": {},
   "outputs": [],
   "source": [
    "ingredients_list = [np.array(i[\"ingredients\"]) for i in subset]\n",
    "unique_ingredients = np.concatenate(ingredients_list)\n",
    "unique_ingredients = np.sort(np.unique(unique_ingredients))"
   ]
  },
  {
   "cell_type": "markdown",
   "metadata": {},
   "source": [
    "Pick 1000 random indexes to remove a single ingredient from each recipe that points"
   ]
  },
  {
   "cell_type": "code",
   "execution_count": 6,
   "metadata": {},
   "outputs": [],
   "source": [
    "random_indexes = random.sample(range(0, len(subset)-1), 1000)"
   ]
  },
  {
   "cell_type": "code",
   "execution_count": 7,
   "metadata": {},
   "outputs": [
    {
     "name": "stdout",
     "output_type": "stream",
     "text": [
      "['baby spinach' 'capers' 'champagne vinegar' 'ciabatta'\n",
      " 'cream cheese, soften' 'dijon mustard' 'extra-virgin olive oil'\n",
      " 'fresh lemon juice' 'grated lemon zest' 'ground black pepper'\n",
      " 'minced garlic' 'purple onion' 'salt' 'sliced green onions'\n",
      " 'smoked salmon' \"soft goat's cheese\"]\n",
      "['baby spinach' 'capers' 'champagne vinegar' 'ciabatta'\n",
      " 'cream cheese, soften' 'dijon mustard' 'extra-virgin olive oil'\n",
      " 'fresh lemon juice' 'grated lemon zest' 'ground black pepper'\n",
      " 'minced garlic' 'purple onion' 'sliced green onions' 'smoked salmon'\n",
      " \"soft goat's cheese\"]\n"
     ]
    }
   ],
   "source": [
    "original_recipes = []\n",
    "for i in random_indexes:\n",
    "    # Copy the recipe and sort the ingredients list\n",
    "    temp = subset[i].copy()\n",
    "    temp[\"index\"] = i\n",
    "    temp[\"ingredients\"] = np.sort(temp[\"ingredients\"])\n",
    "    # Save the original recipe and its index\n",
    "    original_recipes.append(temp)\n",
    "    # Shuffle the ingredients and remove the last and sort them again\n",
    "    random.shuffle(subset[i][\"ingredients\"])\n",
    "    subset[i][\"ingredients\"] = np.sort(subset[i][\"ingredients\"][:-1])\n",
    "    \n",
    "    \n",
    "\n",
    "print(original_recipes[0][\"ingredients\"])\n",
    "print(subset[original_recipes[0][\"index\"]][\"ingredients\"])"
   ]
  },
  {
   "cell_type": "markdown",
   "metadata": {},
   "source": [
    "Create italian_recipes * unique_ingredients matrix (This is M matrix that is created from the subset that we removed the ingredients from 1000 recipes)"
   ]
  },
  {
   "cell_type": "code",
   "execution_count": 8,
   "metadata": {},
   "outputs": [],
   "source": [
    "M = np.zeros((len(subset), len(unique_ingredients)))\n",
    "\n",
    "for x, r in enumerate(subset):\n",
    "    for i in r[\"ingredients\"]:\n",
    "        y = np.where(unique_ingredients == i)\n",
    "        M[x, y] = 1"
   ]
  },
  {
   "cell_type": "code",
   "execution_count": 9,
   "metadata": {},
   "outputs": [
    {
     "data": {
      "text/plain": [
       "1000"
      ]
     },
     "execution_count": 9,
     "metadata": {},
     "output_type": "execute_result"
    }
   ],
   "source": [
    "len(random_indexes)"
   ]
  },
  {
   "cell_type": "code",
   "execution_count": 10,
   "metadata": {},
   "outputs": [],
   "source": [
    "R = np.zeros((len(random_indexes), len(unique_ingredients)))\n",
    "for k, x in enumerate(random_indexes):\n",
    "    for i in subset[x][\"ingredients\"]:\n",
    "        y = np.where(unique_ingredients == i)\n",
    "        R[k, y] = 1\n"
   ]
  },
  {
   "cell_type": "code",
   "execution_count": 11,
   "metadata": {},
   "outputs": [
    {
     "data": {
      "text/plain": [
       "(1000, 2929)"
      ]
     },
     "execution_count": 11,
     "metadata": {},
     "output_type": "execute_result"
    }
   ],
   "source": [
    "R.shape"
   ]
  },
  {
   "cell_type": "markdown",
   "metadata": {},
   "source": [
    "Create a dictionary with the ingredients frequencies."
   ]
  },
  {
   "cell_type": "code",
   "execution_count": 12,
   "metadata": {},
   "outputs": [],
   "source": [
    "ingredients_dict = {}\n",
    "\n",
    "for r in subset:\n",
    "    for i in r[\"ingredients\"]:\n",
    "        if i in ingredients_dict.keys():\n",
    "            ingredients_dict[i] += 1\n",
    "        else:\n",
    "            ingredients_dict[i] = 1\n"
   ]
  },
  {
   "cell_type": "markdown",
   "metadata": {},
   "source": [
    "Create a sorted by value list to store  (key, frequency) in descending order."
   ]
  },
  {
   "cell_type": "code",
   "execution_count": 13,
   "metadata": {},
   "outputs": [],
   "source": [
    "ingredients_sort = sorted(ingredients_dict.items(), key = lambda kv:(kv[1], kv[0]), reverse=True)"
   ]
  },
  {
   "cell_type": "markdown",
   "metadata": {},
   "source": [
    "Jaccard Similarity Matrix (Recipes)"
   ]
  },
  {
   "cell_type": "code",
   "execution_count": 24,
   "metadata": {},
   "outputs": [
    {
     "name": "stderr",
     "output_type": "stream",
     "text": [
      "/home/jwick/anaconda3/lib/python3.7/site-packages/sklearn/metrics/pairwise.py:1575: DataConversionWarning: Data was converted to boolean for metric jaccard\n",
      "  warnings.warn(msg, DataConversionWarning)\n"
     ]
    }
   ],
   "source": [
    "jaccard_recipes = metrics.pairwise.pairwise_distances(R,M,metric = 'jaccard')"
   ]
  },
  {
   "cell_type": "markdown",
   "metadata": {},
   "source": [
    "## Score Formulas"
   ]
  },
  {
   "cell_type": "markdown",
   "metadata": {},
   "source": [
    "### General purpose functions"
   ]
  },
  {
   "cell_type": "code",
   "execution_count": 17,
   "metadata": {},
   "outputs": [],
   "source": [
    "def score(r, i , formula):\n",
    "    \n",
    "    if formula == \"mp\":\n",
    "        return mp(r,i)\n",
    "        # call most popular\n",
    "    elif formula == \"ucf\":\n",
    "        return 1\n",
    "        # call micf\n",
    "    elif formula == \"icf\":\n",
    "        return 2\n",
    "        # call icf\n",
    "    else:\n",
    "        print(\"Wrong formula input.\")"
   ]
  },
  {
   "cell_type": "code",
   "execution_count": 18,
   "metadata": {},
   "outputs": [],
   "source": [
    "def get_missing_ingredient(r):\n",
    "    for k, i in enumerate(original_recipes[r][\"ingredients\"]):\n",
    "        if i == subset[original_recipes[r][\"index\"]][\"ingredients\"][k]:\n",
    "            return i"
   ]
  },
  {
   "cell_type": "code",
   "execution_count": 43,
   "metadata": {},
   "outputs": [],
   "source": [
    "def get_top_N(in_array, N):\n",
    "    args = np.argsort(in_array)\n",
    "    args = list(reversed(args[-N:]))\n",
    "    return args"
   ]
  },
  {
   "cell_type": "code",
   "execution_count": 44,
   "metadata": {},
   "outputs": [
    {
     "data": {
      "text/plain": [
       "[3, 2, 4, 1, 5]"
      ]
     },
     "execution_count": 44,
     "metadata": {},
     "output_type": "execute_result"
    }
   ],
   "source": [
    "get_top_N(np.array([1,3,5,6,3,2,1]), 5)"
   ]
  },
  {
   "cell_type": "code",
   "execution_count": null,
   "metadata": {},
   "outputs": [],
   "source": [
    "def get_B_N()"
   ]
  },
  {
   "cell_type": "markdown",
   "metadata": {},
   "source": [
    "### Most Popular Ingredient (MP)"
   ]
  },
  {
   "cell_type": "code",
   "execution_count": 19,
   "metadata": {},
   "outputs": [],
   "source": [
    "def mp(r, i):\n",
    "    for p in ingredients_sort:\n",
    "        if not p[0] in subset[original_recipes[r][\"index\"]][\"ingredients\"]:\n",
    "            print(\"Expecting: \", get_missing_ingredient(r))\n",
    "            print(\"Returned:  \", p[0])\n",
    "            return p"
   ]
  },
  {
   "cell_type": "code",
   "execution_count": 20,
   "metadata": {},
   "outputs": [
    {
     "name": "stdout",
     "output_type": "stream",
     "text": [
      "Expecting:  all purpose unbleached flour\n",
      "Returned:   garlic cloves\n"
     ]
    },
    {
     "data": {
      "text/plain": [
       "('garlic cloves', 1601)"
      ]
     },
     "execution_count": 20,
     "metadata": {},
     "output_type": "execute_result"
    }
   ],
   "source": [
    "mp(100, \"salt\")"
   ]
  },
  {
   "cell_type": "markdown",
   "metadata": {},
   "source": [
    "### User-based Collaborative filtering (UCF)"
   ]
  },
  {
   "cell_type": "code",
   "execution_count": 21,
   "metadata": {},
   "outputs": [
    {
     "ename": "SyntaxError",
     "evalue": "unexpected EOF while parsing (<ipython-input-21-2a435afafe6f>, line 2)",
     "output_type": "error",
     "traceback": [
      "\u001b[0;36m  File \u001b[0;32m\"<ipython-input-21-2a435afafe6f>\"\u001b[0;36m, line \u001b[0;32m2\u001b[0m\n\u001b[0;31m    \u001b[0m\n\u001b[0m    ^\u001b[0m\n\u001b[0;31mSyntaxError\u001b[0m\u001b[0;31m:\u001b[0m unexpected EOF while parsing\n"
     ]
    }
   ],
   "source": [
    "def ucf(r, i):\n",
    "    for "
   ]
  },
  {
   "cell_type": "code",
   "execution_count": null,
   "metadata": {},
   "outputs": [],
   "source": []
  }
 ],
 "metadata": {
  "kernelspec": {
   "display_name": "Python 3",
   "language": "python",
   "name": "python3"
  },
  "language_info": {
   "codemirror_mode": {
    "name": "ipython",
    "version": 3
   },
   "file_extension": ".py",
   "mimetype": "text/x-python",
   "name": "python",
   "nbconvert_exporter": "python",
   "pygments_lexer": "ipython3",
   "version": "3.7.4"
  }
 },
 "nbformat": 4,
 "nbformat_minor": 2
}
