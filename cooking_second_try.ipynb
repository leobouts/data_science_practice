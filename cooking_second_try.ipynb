{
 "cells": [
  {
   "cell_type": "code",
   "execution_count": 338,
   "metadata": {},
   "outputs": [],
   "source": [
    "from sklearn.feature_extraction.text import CountVectorizer\n",
    "from sklearn import feature_extraction\n",
    "from heapq import nlargest\n",
    "from functools import reduce\n",
    "from operator import add\n",
    "from scipy.spatial import distance\n",
    "from numpy import array\n",
    "import sklearn.metrics as metrics\n",
    "from scipy.linalg import svd\n",
    "import copy\n",
    "import scipy.spatial.distance as distance\n",
    "import Levenshtein as lev\n",
    "import heapq\n",
    "import random\n",
    "import numpy\n",
    "import time\n",
    "import string\n",
    "import json\n",
    "import re"
   ]
  },
  {
   "cell_type": "code",
   "execution_count": 261,
   "metadata": {},
   "outputs": [
    {
     "name": "stdout",
     "output_type": "stream",
     "text": [
      "7801\n",
      "2932\n",
      "1000\n"
     ]
    }
   ],
   "source": [
    "global recipes_before_removing_element\n",
    "global flattened_recipes_set\n",
    "global unique_ingredients\n",
    "global unique_ingredients_after_removing_hidden\n",
    "\n",
    "f = open('train.json')\n",
    "data = json.load(f)\n",
    "\n",
    "recipe_list = []\n",
    "\n",
    "for i in data:\n",
    "    #split with comma to get the cuisine.\n",
    "    split1=str(i).split(',')\n",
    "    #clean the strings with split and regex\n",
    "    split2 = split1[1].split(':')\n",
    "    cuisine = re.sub(r'[.\\W]','',split2[1])\n",
    "    #get the recipe id\n",
    "    recipe_split = split1[0].split(': ')\n",
    "    recipe_id=recipe_split[1]\n",
    "    #keep only the pepperoni guys\n",
    "    if cuisine=='italian':\n",
    "        #splitting with [ because ingredients have the only list in the string\n",
    "        split3=str(i).split('[')\n",
    "        #final cut\n",
    "        ingredients=split3[1].split(',')\n",
    "        #removing ' from the strings\n",
    "        ingredients = [s.translate(str.maketrans('','',string.punctuation)) for s in ingredients]\n",
    "        if len(ingredients)>2:\n",
    "            recipe_list.append(ingredients)\n",
    "            \n",
    "            \n",
    "#remove whitespaces\n",
    "for i,obj in enumerate(recipe_list):\n",
    "    recipe_list[i] = [x.strip() for x in recipe_list[i]]\n",
    "\n",
    "print(len(recipe_list))            \n",
    "#make the 2d list 1d so we can count occurences easily\n",
    "flattened_recipes_set = copy.deepcopy(recipe_list)\n",
    "flattened_recipes_set = reduce(lambda x,y :x+y ,flattened_recipes_set)\n",
    "\n",
    "\n",
    "#find the unique ingredients list of all the italian dataset\n",
    "unique_ingredients = list(numpy.unique(numpy.array(flattened_recipes_set)))\n",
    "print(len(unique_ingredients))            \n",
    "\n",
    "#randomize the recipes\n",
    "random.shuffle(recipe_list)\n",
    "#get the first 1000 randomized items\n",
    "set_of_recipes = recipe_list[:1000]\n",
    "\n",
    "\n",
    "\n",
    "recipes_before_removing_element = copy.deepcopy(set_of_recipes)\n",
    "\n",
    "hidden_items_to_remove = []\n",
    "\n",
    "#remove 1 random ingredient from every recipes\n",
    "for i,obj in enumerate(set_of_recipes):\n",
    "    #randomise the list and remove the first element\n",
    "    random.shuffle(set_of_recipes[i])\n",
    "    hidden_items_to_remove.append(set_of_recipes[i][0])\n",
    "    set_of_recipes[i].pop(0)\n",
    "\n",
    "\n",
    "recipes=copy.deepcopy(set_of_recipes)\n",
    "print(len(hidden_items_to_remove))\n",
    "#unique ingredients have all the items except the hidden FOR ALL ITALIAN RECIPES\n",
    "unique_ingredients_without_hidden = list(set(unique_ingredients) - set(hidden_items_to_remove))\n",
    "\n"
   ]
  },
  {
   "cell_type": "code",
   "execution_count": 295,
   "metadata": {},
   "outputs": [
    {
     "name": "stdout",
     "output_type": "stream",
     "text": [
      "7801\n",
      "2543\n"
     ]
    }
   ],
   "source": [
    "vectorized_matrix_m =[]\n",
    "for i,obj in enumerate(recipe_list):\n",
    "    vector = [0] * len(unique_ingredients_without_hidden)\n",
    "    current_recipe = recipe_list[i]\n",
    "    for j,obj in enumerate(current_recipe):\n",
    "        if current_recipe[j] in unique_ingredients_without_hidden:\n",
    "            vector[unique_ingredients_without_hidden.index(current_recipe[j])] = 1\n",
    "    vectorized_matrix_m.append(vector)\n",
    "print(len(vectorized_matrix_m))\n",
    "print(len(vectorized_matrix_m[0]))"
   ]
  },
  {
   "cell_type": "code",
   "execution_count": 294,
   "metadata": {},
   "outputs": [
    {
     "name": "stdout",
     "output_type": "stream",
     "text": [
      "1000\n",
      "2543\n"
     ]
    }
   ],
   "source": [
    "vectorized_matrix_r =[]\n",
    "for i,obj in enumerate(recipes):\n",
    "    vector = [0] * len(unique_ingredients_without_hidden)\n",
    "    current_recipe = recipes[i]\n",
    "    for j,obj in enumerate(current_recipe):\n",
    "        if current_recipe[j] in unique_ingredients_without_hidden:\n",
    "            vector[unique_ingredients_without_hidden.index(current_recipe[j])] = 1\n",
    "    vectorized_matrix_r.append(vector)\n",
    "print(len(vectorized_matrix_r))\n",
    "print(len(vectorized_matrix_r[0]))"
   ]
  },
  {
   "cell_type": "code",
   "execution_count": 269,
   "metadata": {},
   "outputs": [],
   "source": [
    "# Popular_without_recipes_ingredients is a dict but without the ingredients \n",
    "# of the current recipe of the loop.\n",
    "\n",
    "score_list = []\n",
    "#popular is a dictionary with : (ingredient,times igredient used in all the recipes)\n",
    "popular = dict((x,flattened_recipes_set.count(x)) for x in set(flattened_recipes_set))\n",
    "for i in recipes:\n",
    "    popular_without_recipes_ingredients = list(filter(lambda x: x in i, popular))\n",
    "    max_value = max(popular_without_recipes_ingredients)\n",
    "    score_list.append(max_value)\n",
    "most_popular_score_list = score_list"
   ]
  },
  {
   "cell_type": "code",
   "execution_count": 321,
   "metadata": {},
   "outputs": [
    {
     "name": "stderr",
     "output_type": "stream",
     "text": [
      "/Library/Frameworks/Python.framework/Versions/3.6/lib/python3.6/site-packages/sklearn/metrics/pairwise.py:1735: DataConversionWarning: Data was converted to boolean for metric jaccard\n",
      "  warnings.warn(msg, DataConversionWarning)\n"
     ]
    },
    {
     "name": "stdout",
     "output_type": "stream",
     "text": [
      "[[0. 1. 1. ... 1. 1. 1.]\n",
      " [1. 0. 1. ... 1. 1. 1.]\n",
      " [1. 1. 0. ... 1. 1. 1.]\n",
      " ...\n",
      " [1. 1. 1. ... 1. 1. 1.]\n",
      " [1. 1. 1. ... 1. 1. 1.]\n",
      " [1. 1. 1. ... 1. 1. 1.]]\n"
     ]
    }
   ],
   "source": [
    "\n",
    "vectorized_matrix_r = numpy.array(vectorized_matrix_r)\n",
    "vectorized_matrix_m = numpy.array(vectorized_matrix_m)\n",
    "\n",
    "D = metrics.pairwise.pairwise_distances(vectorized_matrix_r, vectorized_matrix_m, metric='jaccard')\n",
    "\n",
    "print(D)\n"
   ]
  },
  {
   "cell_type": "code",
   "execution_count": 330,
   "metadata": {
    "scrolled": true
   },
   "outputs": [],
   "source": [
    "#getting the length similar indexes for the recipes\n",
    "\n",
    "length = 3\n",
    "most_similar = []\n",
    "scores_ucf = []\n",
    "most_similar_values = []\n",
    "\n",
    "\n",
    "for i,obj in enumerate(recipes):\n",
    "    \n",
    "    \n",
    "    \n",
    "    #the Jaccard similarity of an item with itself is always 1.\n",
    "    #we are going to get the n+1 largest values so we can pop out\n",
    "    #the one with itself.\n",
    "    \n",
    "    #gives the indexes of the n+1 largest values of jaccard\n",
    "    most_similar = heapq.nsmallest(length+1, range(len(a)), D[i].take)\n",
    "    most_similar.pop(0)\n",
    "    \n",
    "    #gives the values of jaccard of the n+1 largest values\n",
    "    jaccard_values = heapq.nsmallest(length+1, D[i])\n",
    "    jaccard_values.pop(0)      \n",
    "    scores_1=[]\n",
    "    \n",
    "    ingredients_without_current = list(set(unique_ingredients_without_hidden) - set(recipes[i]))\n",
    "    \n",
    "    for j,obj in enumerate(unique_ingredients_without_hidden):\n",
    "        if unique_ingredients_without_hidden[j] in recipes[i]:\n",
    "            scores_1.append(0)\n",
    "        else:\n",
    "            index_of_ingredient = unique_ingredients_without_hidden.index(unique_ingredients_without_hidden[j])\n",
    "\n",
    "            jaccard_dot_matrix_sum = 0\n",
    "            jaccard_sum = 0\n",
    "\n",
    "            for k in range(length):\n",
    "                m = most_similar[k]\n",
    "                jaccard_dot_matrix_sum += jaccard_values[k] * vectorized_matrix_m[m][index_of_ingredient]\n",
    "                jaccard_sum += jaccard_values[k]\n",
    "\n",
    "            if jaccard_sum != 0:    \n",
    "                scores_1.append(jaccard_dot_matrix_sum/jaccard_sum)\n",
    "            else:\n",
    "                scores_1.append(0) \n",
    "    scores_ucf.append(scores_1)\n"
   ]
  },
  {
   "cell_type": "code",
   "execution_count": 345,
   "metadata": {},
   "outputs": [
    {
     "name": "stdout",
     "output_type": "stream",
     "text": [
      "precision: 0.012\n"
     ]
    }
   ],
   "source": [
    "found_sum = 0\n",
    "for j,obj in enumerate(recipes):\n",
    "    \n",
    "    hidden_element = list(set(recipes_before_removing_element[j]) - set(recipes[j]))\n",
    "    #for K=1 we just want the maximum value\n",
    "    max_value = max(scores_ucf[j])\n",
    "    max_index = scores_ucf[j].index(max_value)\n",
    "    \n",
    "    ingredient_proposed_by_the_algorithm = unique_ingredients_without_hidden[max_index]\n",
    "    \n",
    "    Ratio = lev.ratio(hidden_element[0].lower(),ingredient_proposed_by_the_algorithm.lower())\n",
    "    if Ratio>0.55:\n",
    "        #print(hidden_element[0])\n",
    "        #print(ingredient_proposed_by_the_algorithm)\n",
    "        #print(\"-----\")\n",
    "        found_sum += 1\n",
    "\n",
    "print(\"precision:\",found_sum/len(recipes))"
   ]
  },
  {
   "cell_type": "code",
   "execution_count": null,
   "metadata": {},
   "outputs": [],
   "source": [
    "#jaccard of each ingredient with the other\n",
    "distance_ingredients=[]\n",
    "for i in unique_ingredients:\n",
    "    jaccard_of_ingredients = []\n",
    "    for j in unique_ingredients:\n",
    "        set1, set2 = set(i), set(j)\n",
    "        if(len(set1 | set2)==0):\n",
    "            jaccard_of_ingredients.append(0)\n",
    "        else:\n",
    "            jaccard_of_ingredients.append(len(set1 & set2) / len(set1 | set2))\n",
    "    distance_ingredients.append(jaccard_of_ingredients)"
   ]
  }
 ],
 "metadata": {
  "kernelspec": {
   "display_name": "Python 3",
   "language": "python",
   "name": "python3"
  },
  "language_info": {
   "codemirror_mode": {
    "name": "ipython",
    "version": 3
   },
   "file_extension": ".py",
   "mimetype": "text/x-python",
   "name": "python",
   "nbconvert_exporter": "python",
   "pygments_lexer": "ipython3",
   "version": "3.7.4"
  }
 },
 "nbformat": 4,
 "nbformat_minor": 2
}
