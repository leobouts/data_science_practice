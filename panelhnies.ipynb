{
 "cells": [
  {
   "cell_type": "markdown",
   "metadata": {},
   "source": [
    "## Pytrends and Google trends\n",
    "Google Trends is a search trends feature that shows how frequently a given search term is entered into Google’s search engine relative to the site’s total search volume over a given period of time. Pytrends can be used with python to mine the search data that Google trends provide.\n",
    "\n",
    "## exploring questions\n",
    "A common search keywoard among young students in Greece is about the entrance grades of each university. The Greek university entrance exams results are announced in june-july and the entrance grades are formed accordignly in august. Intuitively after the exam results are out, students search for the old entrance grades to see if they can make it to the desired institution adjusting their beliefs with the difficulty of the exams of the current year. The second and higher peak we expect is arround august when the entrance grades of each institution are officially announced. We're going to see if that's the case using the google trends tool."
   ]
  },
  {
   "cell_type": "code",
   "execution_count": 165,
   "metadata": {
    "scrolled": true
   },
   "outputs": [],
   "source": [
    "import pandas as pd\n",
    "import matplotlib.pyplot as plt\n",
    "from pytrends.request import TrendReq\n",
    "\n",
    "#tz=timezone offset in minutes, hl=location\n",
    "pytrend = TrendReq(hl='GR',tz=120)\n",
    "\n",
    "#search keywords\n",
    "pytrend.build_payload(kw_list=['baseis'])\n",
    "\n",
    "#interest method\n",
    "interest = pytrend.interest_over_time()\n",
    "\n",
    "#drop unnecessary columnt\n",
    "interest = interest.drop(columns=['isPartial'])\n",
    "                         \n",
    "#save to a csv file\n",
    "interest.to_csv('/Users/leonidas/Desktop/classes/data mining/firstset/code/results.csv')\n",
    "\n",
    "\n"
   ]
  },
  {
   "cell_type": "code",
   "execution_count": 173,
   "metadata": {
    "scrolled": true
   },
   "outputs": [
    {
     "name": "stdout",
     "output_type": "stream",
     "text": [
      "            baseis\n",
      "date              \n",
      "2018-01-31    1.50\n",
      "2018-02-28    2.00\n",
      "2018-03-31    3.25\n",
      "2018-04-30    2.20\n",
      "2018-05-31    2.75\n",
      "2018-06-30    9.00\n",
      "2018-07-31    9.20\n",
      "2018-08-31   12.75\n",
      "2018-09-30    3.60\n",
      "2018-10-31    2.50\n",
      "2018-11-30    2.50\n",
      "2018-12-31    1.40\n"
     ]
    },
    {
     "data": {
      "text/plain": [
       "Text(0, 0.5, 'Mean search interest over time')"
      ]
     },
     "execution_count": 173,
     "metadata": {},
     "output_type": "execute_result"
    },
    {
     "data": {
      "image/png": "[encoded data removed]",
      "text/plain": [
       "<Figure size 432x288 with 1 Axes>"
      ]
     },
     "metadata": {
      "needs_background": "light"
     },
     "output_type": "display_data"
    }
   ],
   "source": [
    "#load the results in a csv\n",
    "trend_results = pd.read_csv('results.csv',parse_dates=['date'])\n",
    "\n",
    "#get the values for 2018\n",
    "interest_2018= trend_results[trend_results['date'].dt.year == 2018]\n",
    "\n",
    "#average them by month\n",
    "monthly_mean_interest = interest_2018.resample(\"M\", on='date').mean()\n",
    "\n",
    "print(monthly_mean_interest)\n",
    "\n",
    "#plot them\n",
    "plt.plot(monthly_mean_interest)\n",
    "plt.xlabel('Months')\n",
    "plt.ylabel('Mean search interest over time')"
   ]
  },
  {
   "cell_type": "markdown",
   "metadata": {},
   "source": [
    "As we can see in the graph the keyword search peaks in june-july and august."
   ]
  }
 ],
 "metadata": {
  "kernelspec": {
   "display_name": "Python 3",
   "language": "python",
   "name": "python3"
  },
  "language_info": {
   "codemirror_mode": {
    "name": "ipython",
    "version": 3
   },
   "file_extension": ".py",
   "mimetype": "text/x-python",
   "name": "python",
   "nbconvert_exporter": "python",
   "pygments_lexer": "ipython3",
   "version": "3.6.5"
  }
 },
 "nbformat": 4,
 "nbformat_minor": 2
}
